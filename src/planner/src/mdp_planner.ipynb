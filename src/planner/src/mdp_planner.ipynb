{
 "cells": [
  {
   "cell_type": "code",
   "execution_count": 2,
   "metadata": {},
   "outputs": [],
   "source": [
    "import pickle\n",
    "import numpy as np\n",
    "import matplotlib.pyplot as plt\n",
    "from mpl_toolkits.axes_grid1 import make_axes_locatable\n",
    "\n",
    "import heapq\n",
    "import math\n",
    "import json"
   ]
  },
  {
   "cell_type": "code",
   "execution_count": 495,
   "metadata": {},
   "outputs": [],
   "source": [
    "map_name =\"com1building\"\n",
    "resolution, world_width, world_height, map = pickle.load(open(\"./org_map/%s.pkl\" % (map_name), \"rb\")) \n",
    "ROBOT_SIZE = 0.2552"
   ]
  },
  {
   "cell_type": "code",
   "execution_count": 496,
   "metadata": {},
   "outputs": [],
   "source": [
    "map_a = np.array(map).reshape(world_height, world_width)\n",
    "map_a[0, :] = 100\n",
    "map_a[-1, :] = 100\n",
    "map_a[:, 0] = 100\n",
    "map_a[:, -1] = 100\n",
    "\n",
    "# inflation_ratio = int(np.ceil(ROBOT_SIZE * 1/resolution)//2)+1\n",
    "robot_diag = (2* (ROBOT_SIZE**2))**0.5\n",
    "inflation_ratio =  int(np.ceil(robot_diag/resolution/2))\n",
    "    \n",
    "mv = [0, 1, 2]\n",
    "for k in range(inflation_ratio):\n",
    "    map_a = np.pad(map_a, 1)\n",
    "    maps = [map_a[i:world_height+i, j:world_width+j] for i in mv for j in mv]\n",
    "    maps_padded = np.stack(maps).sum(axis=0)\n",
    "    map_a = (maps_padded > 0) * 100\n",
    "\n",
    "aug_map = map_a"
   ]
  },
  {
   "cell_type": "code",
   "execution_count": 498,
   "metadata": {},
   "outputs": [
    {
     "data": {
      "text/plain": [
       "<matplotlib.colorbar.Colorbar at 0x1c0a41687c0>"
      ]
     },
     "execution_count": 498,
     "metadata": {},
     "output_type": "execute_result"
    },
    {
     "data": {
      "image/png": "[encoded data removed]",
      "text/plain": [
       "<Figure size 1440x1440 with 2 Axes>"
      ]
     },
     "metadata": {
      "needs_background": "light"
     },
     "output_type": "display_data"
    }
   ],
   "source": [
    "map_base = np.array(map).reshape(world_height, world_width)\n",
    "fig, ax = plt.subplots(figsize=(20, 20))\n",
    "im = ax.imshow(aug_map, origin='lower')\n",
    "divider = make_axes_locatable(ax)\n",
    "cax = divider.append_axes('right', size='5%', pad=0.05)\n",
    "fig.colorbar(im, cax=cax, orientation='vertical')\n"
   ]
  },
  {
   "cell_type": "code",
   "execution_count": 499,
   "metadata": {},
   "outputs": [
    {
     "data": {
      "text/plain": [
       "<matplotlib.colorbar.Colorbar at 0x1c080bb0dc0>"
      ]
     },
     "execution_count": 499,
     "metadata": {},
     "output_type": "execute_result"
    },
    {
     "data": {
      "image/png": "[encoded data removed]",
      "text/plain": [
       "<Figure size 1440x1440 with 2 Axes>"
      ]
     },
     "metadata": {
      "needs_background": "light"
     },
     "output_type": "display_data"
    }
   ],
   "source": [
    "map_base = np.array(map).reshape(world_height, world_width)\n",
    "fig, ax = plt.subplots(figsize=(20, 20))\n",
    "im = ax.imshow(map_a-map_base, origin='lower')\n",
    "divider = make_axes_locatable(ax)\n",
    "cax = divider.append_axes('right', size='5%', pad=0.05)\n",
    "fig.colorbar(im, cax=cax, orientation='vertical')\n"
   ]
  },
  {
   "cell_type": "code",
   "execution_count": 9,
   "metadata": {},
   "outputs": [],
   "source": [
    "def l1_dist(pose, goal):\n",
    "    \"\"\"Compute L1 distance from pose to goal.\n",
    "\n",
    "    Arguments:\n",
    "        pose {list} -- robot pose\n",
    "        goal {list} -- goal pose\n",
    "\n",
    "    Returns:\n",
    "        float -- L1 distance to the target_pose\n",
    "    \"\"\"\n",
    "    #TODO: add tie breaking\n",
    "    l1_dist = np.abs(np.subtract(pose[:2], goal[:2])).sum()\n",
    "    return l1_dist\n",
    "\n",
    "def l2_dist(pose, goal):\n",
    "    \"\"\"Compute L2 distance from pose to goal.\n",
    "\n",
    "    Arguments:\n",
    "        pose {list} -- robot pose\n",
    "        goal {list} -- goal pose\n",
    "\n",
    "    Returns:\n",
    "        float -- L2 distance to the target_pose\n",
    "    \"\"\"\n",
    "    return math.sqrt(\n",
    "        (pose[0] - goal[0]) ** 2 + (pose[1] - goal[1]) ** 2\n",
    "    )\n",
    "    \n",
    "def normalize_theta(a):\n",
    "    while( a < -np.pi): a += 2.0*np.pi\n",
    "    while( a >  np.pi): a -= 2.0*np.pi\n",
    "    return a\n",
    "\n",
    "def arr_checker(pose):\n",
    "    if type(pose) != np.ndarray:\n",
    "        return np.array(pose)\n",
    "    else:\n",
    "        return pose\n",
    "        \n",
    "def perfect_next_state(cur_pose, control, dt=0.1, num_times=5):\n",
    "    # Each control exert for 0.5 seconds and refresh rate for env is 0.1 (new position is is calculated every 0.1s) \n",
    "    v, w = control[0], control[1]\n",
    "    cur_pose = arr_checker(cur_pose) \n",
    "    for _ in range(num_times):\n",
    "        theta = cur_pose[-1]\n",
    "        delta_mv = np.array([\n",
    "            v*np.cos(theta),\n",
    "            v*np.sin(theta),\n",
    "            w\n",
    "        ]) * dt\n",
    "        cur_pose = cur_pose + delta_mv    \n",
    "        cur_pose[-1] = normalize_theta(cur_pose[-1])\n",
    "    # return np.round(cur_pose, 6)\n",
    "    return cur_pose\n",
    "    \n",
    "\n",
    "def actions_to_take(start, end, cur_theta):\n",
    "    actions = []\n",
    "    # turn to face end\n",
    "    tar_facing = {\n",
    "        (-1, 0): 2, \n",
    "        (1, 0): 0, \n",
    "        (0, -1): 3,\n",
    "        (0, 1): 1,\n",
    "    }\n",
    "    delta = tuple((end - start).tolist())\n",
    "    tar_theta = tar_facing[delta]\n",
    "    if (tar_theta - 1) % 4 == cur_theta:\n",
    "        actions.append((0, 1)) #turn left\n",
    "    else:\n",
    "        while (cur_theta != tar_theta):\n",
    "            actions.append((0, -1)) #turn right\n",
    "            cur_theta = (cur_theta - 1) % 4                \n",
    "    actions.append((1,0))\n",
    "    return actions, tar_theta\n",
    "\n",
    "\n",
    "            \n",
    "def sample_pts(cp_x_y, ns_x_y, density=2):\n",
    "    cp_x_y = arr_checker(cp_x_y)\n",
    "    ns_x_y = arr_checker(ns_x_y)\n",
    "    dist = l1_dist(cp_x_y, ns_x_y)\n",
    "    sample_size = int(np.ceil(1.0*dist/density))+1\n",
    "    seg_sample = np.random.uniform(size=sample_size)\n",
    "    seg_sample[-1] = 0\n",
    "    pts_sample = seg_sample * cp_x_y[::-1].reshape(-1, 1) + (1-seg_sample) * ns_x_y[::-1].reshape(-1, 1)\n",
    "    pts_sample = np.round(pts_sample).astype(np.int)\n",
    "    pts_sample = set(tuple(u) for u in pts_sample.T)\n",
    "    return tuple(zip(*pts_sample))           "
   ]
  },
  {
   "cell_type": "code",
   "execution_count": 10,
   "metadata": {},
   "outputs": [],
   "source": [
    "def collision_checker(x, y):\n",
    "        \"\"\"TODO: FILL ME!\n",
    "        You should implement the collision checker.\n",
    "        Hint: you should consider the augmented map and the world size\n",
    "        \n",
    "        Arguments:\n",
    "            x {float} -- current x of robot\n",
    "            y {float} -- current y of robot\n",
    "        \n",
    "        Returns:\n",
    "            bool -- True for collision, False for non-collision\n",
    "        \"\"\"\n",
    "        xy = np.round(np.array([x, y]) / resolution).astype(int)\n",
    "        return ((xy < 0).any() or xy[0] >= world_width or xy[1] >= world_height) or  aug_map[xy[1], xy[0]] > 0\n",
    "        \n",
    "def motion_predict(x, y, theta, v, w, dt=0.5, frequency=10):\n",
    "    num_steps = int(dt * frequency)\n",
    "    dx = 0\n",
    "    dy = 0\n",
    "    for i in range(num_steps):\n",
    "        if w != 0:\n",
    "            dx = - v / w * np.sin(theta) + v / w * \\\n",
    "                np.sin(theta + w / frequency)\n",
    "            dy = v / w * np.cos(theta) - v / w * \\\n",
    "                np.cos(theta + w / frequency)\n",
    "        else:\n",
    "            dx = v*np.cos(theta)/frequency\n",
    "            dy = v*np.sin(theta)/frequency\n",
    "        x += dx\n",
    "        y += dy\n",
    "\n",
    "        theta += w / frequency\n",
    "    return x, y, theta\n",
    "\n",
    "def discrete_motion_predict(x, y, theta, v, w, dt=0.5, frequency=10):\n",
    "    w_radian = w * np.pi/2\n",
    "    first_step = motion_predict(x, y, theta*np.pi/2, v, w_radian)\n",
    "    if first_step:\n",
    "        second_step = motion_predict(\n",
    "            first_step[0], first_step[1], first_step[2], v, w_radian)\n",
    "        if second_step:\n",
    "            return (round(second_step[0]), round(second_step[1]), round(second_step[2] / (np.pi / 2)) % 4)\n",
    "    return None"
   ]
  },
  {
   "cell_type": "code",
   "execution_count": 11,
   "metadata": {},
   "outputs": [],
   "source": [
    "def next_state(cur_pose, control, dt=0.1, num_times=5, oob=True):\n",
    "    # Each control exert for 0.5 seconds and refresh rate for env is 0.1 (new position is is calculated every 0.1s) \n",
    "    v, w = control[0], control[1]\n",
    "    next_pose = discrete_motion_predict(cur_pose[0], cur_pose[1], cur_pose[2], v, w)\n",
    "    next_pose = arr_checker(next_pose)\n",
    "    if (not oob) and (collision_checker(*cur_pose[:2]) or collision_checker(*next_pose[:2])):\n",
    "        return arr_checker(cur_pose)\n",
    "    return next_pose\n",
    "\n",
    "def get_aug_coord(pose, multiplier):\n",
    "    pose = arr_checker(pose) \n",
    "    rtn = pose * multiplier\n",
    "    rtn = np.round(rtn).astype(np.int)[:-1]\n",
    "    return rtn\n",
    "\n",
    "def xy2ij(xy_coord):\n",
    "    return (xy_coord[1], xy_coord[0]) + xy_coord[2:]"
   ]
  },
  {
   "cell_type": "code",
   "execution_count": 504,
   "metadata": {},
   "outputs": [],
   "source": [
    "multiplier = int(1/resolution)\n",
    "init_pose = (1, 1, 0) #(4, 4, 2)\n",
    "goal_init = (48, 18)\n",
    "aug_map = map_a\n",
    "\n",
    "init_pose_a = np.array(init_pose).astype(int)\n",
    "goal = np.array(goal_init).astype(int)\n",
    "num_y, num_x = int(world_height * resolution)+1, int(world_width * resolution)+1\n",
    "num_t = 4\n",
    "num_action = 4\n",
    "T_max = 10000"
   ]
  },
  {
   "cell_type": "code",
   "execution_count": 514,
   "metadata": {},
   "outputs": [],
   "source": [
    "# s00, s01, s0-1, s10, s11, s1-1\n",
    "t_matrix = np.array([\n",
    "    [1, 0, 0, 0,   0,    0],\n",
    "    [0, 1, 0, 0,   0,    0],\n",
    "    [0, 0, 1, 0,   0,    0],\n",
    "    [0, 0, 0, 0.9, 0.05, 0.05],\n",
    "])\n",
    "state_prev = np.zeros((num_y, num_x, num_t))\n",
    "\n",
    "actions_space = [(0, 0), (0, 1), (0, -1), (1, 0)]\n",
    "movements = np.array(actions_space + [(1, 1), (1, -1)])\n",
    "yv, xv, tv = np.meshgrid(range(num_y), range(num_x), range(num_t), indexing='ij') \n",
    "yv, xv, tv = yv.reshape(-1), xv.reshape(-1), tv.reshape(-1)\n",
    "all_states = list(zip(xv, yv, tv))\n",
    "all_s_next = np.array([[next_state(pose, c, oob=False) for c in movements] for pose in all_states]) #x,y\n",
    "all_s_next = all_s_next.reshape(num_y, num_x, num_t, *all_s_next.shape[1:]) # (y,x,t) : (x,y,t)\n",
    "all_s_next = all_s_next.astype(np.int)\n",
    "s_next_idx = tuple(tuple(states) for states in all_s_next.reshape(-1, 3).T)\n",
    "s_next_idx = s_next_idx[1], s_next_idx[0], s_next_idx[2] #(y, x, t)"
   ]
  },
  {
   "cell_type": "code",
   "execution_count": 515,
   "metadata": {},
   "outputs": [],
   "source": [
    "invalid_actions = np.zeros((num_x, num_y, num_t))\n",
    "rewards = np.zeros((num_x, num_y, num_t, num_action))\n",
    "t_matrix_ = np.repeat(t_matrix[np.newaxis, ...], np.prod((num_x, num_y, num_t)), axis=0)\n",
    "t_matrix_ = t_matrix_.reshape(num_x, num_y, num_t, 4, 6)\n",
    "\n",
    "# pt_samples_ls = []\n",
    "\n",
    "for pose in all_states:\n",
    "    cp_x_y = get_aug_coord(pose, multiplier)\n",
    "    r_for_cur = np.zeros(6) - 1\n",
    "    for cid, c in enumerate(movements):\n",
    "        next_s = next_state(pose, c)\n",
    "        ns_x_y = get_aug_coord(next_s, multiplier)\n",
    "        pt_samples = sample_pts(cp_x_y, ns_x_y, density=1)\n",
    "        if ((cp_x_y < 0).any() or cp_x_y[0] >= world_width or cp_x_y[1] >= world_height) or \\\n",
    "            ((ns_x_y < 0).any() or ns_x_y[0] >= world_width or ns_x_y[1] >= world_height) or \\\n",
    "            aug_map[pt_samples].sum() > 0: \n",
    "                r_for_cur[cid] = -25 # -8 #.*num_y*num_x \n",
    "                t_matrix_[pose][:, cid] = 0\n",
    "    # if pose[:2] == (47, 18) and cid >= 3: \n",
    "    #     pt_samples_ls.append((cid, c, pose, cp_x_y, next_s, ns_x_y, pt_samples))\n",
    "    invalid_actions[pose] = r_for_cur[3]\n",
    "    rewards[pose] = np.matmul(t_matrix, r_for_cur) \n",
    "\n",
    "invalid_actions = np.transpose(invalid_actions, (1, 0, 2))  \n",
    "invalid_actions = invalid_actions < -1\n",
    "rewards = np.transpose(rewards, (1, 0, 2, 3))\n",
    "# -1 for all except goal states for no action\n",
    "rewards[goal[1], goal[0], :, 0] = 0\n",
    "t_matrix_ = np.transpose(t_matrix_, (1, 0, 2, 3, 4))\n",
    "norm = t_matrix_.sum(-1)\n",
    "norm[norm==0] = 1\n",
    "t_matrix_ = t_matrix_/norm[...,np.newaxis]       \n",
    "\n",
    "invalid_nodes = np.zeros((num_y, num_x)).astype(np.bool)\n",
    "for i in range(num_y):\n",
    "    for j in range(num_x):\n",
    "        y, x = i*multiplier, j*multiplier\n",
    "        if x >= world_width or y >= world_height or aug_map[y, x] == 100:\n",
    "            invalid_nodes[i, j] = True"
   ]
  },
  {
   "cell_type": "code",
   "execution_count": 516,
   "metadata": {},
   "outputs": [
    {
     "name": "stdout",
     "output_type": "stream",
     "text": [
      "close 112\n"
     ]
    }
   ],
   "source": [
    "for t in range(T_max):\n",
    "    # 1 iteration of value propagation\n",
    "    v_prev = state_prev[s_next_idx].reshape(-1, 1)\n",
    "    v_prev = v_prev.reshape(*(all_s_next.shape[:-1] + (1,)))\n",
    "    v_prev = np.matmul(t_matrix_, v_prev).squeeze()\n",
    "    q_values = rewards + v_prev\n",
    "    q_values[:,:,:,3][invalid_actions] = np.nan\n",
    "    q_values[:,:,:,0] = np.nan\n",
    "    q_values[goal[1],goal[0],:,0] = 0\n",
    "    v_cur = np.nanmax(q_values, axis=-1)\n",
    "    # v_cur = np.max(q_values, axis=-1)\n",
    "    v_cur[invalid_nodes] = 0\n",
    "    old_state_prev = state_prev\n",
    "    state_prev = v_cur\n",
    "    if np.isclose(old_state_prev, v_cur).all():\n",
    "        print(\"close\", t)\n",
    "        break\n",
    "action_table = {pose:actions_space[np.nanargmax(q_values[xy2ij(pose)])] for pose in all_states}    "
   ]
  },
  {
   "cell_type": "code",
   "execution_count": 509,
   "metadata": {},
   "outputs": [
    {
     "name": "stdout",
     "output_type": "stream",
     "text": [
      "[[[1.   0.   0.   0.   0.   0.  ]\n",
      "  [0.   1.   0.   0.   0.   0.  ]\n",
      "  [0.   0.   1.   0.   0.   0.  ]\n",
      "  [0.   0.   0.   0.9  0.05 0.05]]\n",
      "\n",
      " [[1.   0.   0.   0.   0.   0.  ]\n",
      "  [0.   1.   0.   0.   0.   0.  ]\n",
      "  [0.   0.   1.   0.   0.   0.  ]\n",
      "  [0.   0.   0.   0.9  0.05 0.05]]\n",
      "\n",
      " [[1.   0.   0.   0.   0.   0.  ]\n",
      "  [0.   1.   0.   0.   0.   0.  ]\n",
      "  [0.   0.   1.   0.   0.   0.  ]\n",
      "  [0.   0.   0.   0.9  0.05 0.05]]\n",
      "\n",
      " [[1.   0.   0.   0.   0.   0.  ]\n",
      "  [0.   1.   0.   0.   0.   0.  ]\n",
      "  [0.   0.   1.   0.   0.   0.  ]\n",
      "  [0.   0.   0.   0.9  0.05 0.05]]]\n"
     ]
    },
    {
     "data": {
      "text/plain": [
       "array([[-1., -1., -1., -1.],\n",
       "       [-1., -1., -1., -1.],\n",
       "       [-1., -1., -1., -1.],\n",
       "       [-1., -1., -1., -1.]])"
      ]
     },
     "execution_count": 509,
     "metadata": {},
     "output_type": "execute_result"
    }
   ],
   "source": [
    "x, y = 31, 15\n",
    "print(t_matrix_[y, x])\n",
    "rewards[y,x]"
   ]
  },
  {
   "cell_type": "code",
   "execution_count": 517,
   "metadata": {},
   "outputs": [
    {
     "data": {
      "text/plain": [
       "(array([[         nan, -30.12120963, -32.12120963, -30.81594647],\n",
       "        [         nan, -31.12120963, -31.12120963, -29.12120963],\n",
       "        [         nan, -32.12120963, -30.12120963, -33.61594647],\n",
       "        [         nan, -31.12120963, -31.12120963,          nan]]),\n",
       " array([-30.12120963, -29.12120963, -30.12120963, -31.12120963]),\n",
       " array([[-30.12120963, -29.12120963, -31.12120963, -28.61594647],\n",
       "        [-29.12120963, -30.12120963, -30.12120963, -28.12120963],\n",
       "        [-30.12120963, -31.12120963, -29.12120963, -31.41594647],\n",
       "        [-31.12120963, -30.12120963, -30.12120963,   0.        ]]))"
      ]
     },
     "execution_count": 517,
     "metadata": {},
     "output_type": "execute_result"
    }
   ],
   "source": [
    "x, y = 31, 14\n",
    "q_values[y, x], v_cur[y, x], v_prev[y, x]"
   ]
  },
  {
   "cell_type": "code",
   "execution_count": 511,
   "metadata": {},
   "outputs": [
    {
     "data": {
      "text/plain": [
       "(array([[         nan, -28.04643113, -29.31887877, -27.31887877],\n",
       "        [         nan, -29.04643113, -28.31887877, -27.04643113],\n",
       "        [         nan, -29.31887877, -28.04643113, -30.565617  ],\n",
       "        [         nan, -28.31887877, -29.04643113,          nan]]),\n",
       " array([-27.31887877, -27.04643113, -28.04643113, -28.31887877]),\n",
       " array([[-27.31887877, -27.04643113, -28.31887877, -25.96887877],\n",
       "        [-27.04643113, -28.04643113, -27.31887877, -26.04643113],\n",
       "        [-28.04643113, -28.31887877, -27.04643113, -29.215617  ],\n",
       "        [-28.31887877, -27.31887877, -28.04643113,   0.        ]]))"
      ]
     },
     "execution_count": 511,
     "metadata": {},
     "output_type": "execute_result"
    }
   ],
   "source": [
    "x, y = 31, 14\n",
    "q_values[y, x], v_cur[y, x], v_prev[y, x]"
   ]
  },
  {
   "cell_type": "code",
   "execution_count": 518,
   "metadata": {},
   "outputs": [
    {
     "data": {
      "text/plain": [
       "<matplotlib.colorbar.Colorbar at 0x1c080c3b1c0>"
      ]
     },
     "execution_count": 518,
     "metadata": {},
     "output_type": "execute_result"
    },
    {
     "data": {
      "image/png": "[encoded data removed]",
      "text/plain": [
       "<Figure size 1440x1440 with 2 Axes>"
      ]
     },
     "metadata": {
      "needs_background": "light"
     },
     "output_type": "display_data"
    }
   ],
   "source": [
    "fig, ax = plt.subplots(figsize=(20, 20))\n",
    "im = ax.imshow(v_cur.max(-1), origin='lower')\n",
    "divider = make_axes_locatable(ax)\n",
    "cax = divider.append_axes('right', size='5%', pad=0.05)\n",
    "fig.colorbar(im, cax=cax, orientation='vertical')"
   ]
  },
  {
   "cell_type": "code",
   "execution_count": 133,
   "metadata": {},
   "outputs": [
    {
     "data": {
      "text/plain": [
       "[<matplotlib.lines.Line2D at 0x1c08b635580>]"
      ]
     },
     "execution_count": 133,
     "metadata": {},
     "output_type": "execute_result"
    },
    {
     "data": {
      "image/png": "[encoded data removed]",
      "text/plain": [
       "<Figure size 1440x1440 with 2 Axes>"
      ]
     },
     "metadata": {
      "needs_background": "light"
     },
     "output_type": "display_data"
    }
   ],
   "source": [
    "fig, ax = plt.subplots(figsize=(20, 20))\n",
    "im = ax.imshow(aug_map, origin='lower')\n",
    "divider = make_axes_locatable(ax)\n",
    "cax = divider.append_axes('right', size='5%', pad=0.05)\n",
    "fig.colorbar(im, cax=cax, orientation='vertical')\n",
    "\n",
    "x, y = 47, 18\n",
    "ax.plot(x*multiplier, y*multiplier, \"ro\")\n",
    "x, y = 48, 18\n",
    "ax.plot(x*multiplier, y*multiplier, \"ro\")\n",
    "x, y = 49, 19\n",
    "ax.plot(x*multiplier, y*multiplier, \"ko\")\n",
    "x, y = 31, 4\n",
    "ax.plot(x*multiplier, y*multiplier, \"bo\")\n",
    "x, y = 31, 5\n",
    "ax.plot(x*multiplier, y*multiplier, \"bo\")"
   ]
  },
  {
   "cell_type": "code",
   "execution_count": 141,
   "metadata": {},
   "outputs": [
    {
     "data": {
      "image/png": "[encoded data removed]",
      "text/plain": [
       "<Figure size 1440x1440 with 2 Axes>"
      ]
     },
     "metadata": {
      "needs_background": "light"
     },
     "output_type": "display_data"
    }
   ],
   "source": [
    "fig, ax = plt.subplots(figsize=(20, 20))\n",
    "im = ax.imshow(aug_map, origin='lower')\n",
    "divider = make_axes_locatable(ax)\n",
    "cax = divider.append_axes('right', size='5%', pad=0.05)\n",
    "fig.colorbar(im, cax=cax, orientation='vertical')\n",
    "\n",
    "for y in range(num_y):\n",
    "    for x in range(num_x):\n",
    "        ax.plot(x*multiplier, y*multiplier, \"bx\")"
   ]
  },
  {
   "cell_type": "code",
   "execution_count": 148,
   "metadata": {},
   "outputs": [
    {
     "data": {
      "text/plain": [
       "<matplotlib.colorbar.Colorbar at 0x1c082d0a250>"
      ]
     },
     "execution_count": 148,
     "metadata": {},
     "output_type": "execute_result"
    },
    {
     "data": {
      "image/png": "[encoded data removed]",
      "text/plain": [
       "<Figure size 1440x1440 with 2 Axes>"
      ]
     },
     "metadata": {
      "needs_background": "light"
     },
     "output_type": "display_data"
    }
   ],
   "source": [
    "fig, ax = plt.subplots(figsize=(20, 20))\n",
    "im = ax.imshow(invalid_nodes, origin='lower')\n",
    "divider = make_axes_locatable(ax)\n",
    "cax = divider.append_axes('right', size='5%', pad=0.05)\n",
    "fig.colorbar(im, cax=cax, orientation='vertical')"
   ]
  },
  {
   "attachments": {},
   "cell_type": "markdown",
   "metadata": {},
   "source": [
    "# Simulation"
   ]
  },
  {
   "cell_type": "code",
   "execution_count": 68,
   "metadata": {},
   "outputs": [
    {
     "name": "stdout",
     "output_type": "stream",
     "text": [
      "(1, 1, 0) [2 1 0] [1, 0]\n",
      "(2, 1, 0) [2 1 1] [0, 1]\n",
      "(2, 1, 1) [2 2 1] [1, 0]\n",
      "(2, 2, 1) [2 3 1] [1, 0]\n",
      "(2, 3, 1) [2 4 1] [1, 0]\n",
      "(2, 4, 1) [2 5 1] [1, 0]\n",
      "(2, 5, 1) [2 6 1] [1, 0]\n",
      "(2, 6, 1) [2 7 1] [1, 0]\n",
      "(2, 7, 1) [2 8 1] [1, 0]\n",
      "(2, 8, 1) [2 9 1] [1, 0]\n",
      "(2, 9, 1) [ 2 10  1] [1, 0]\n",
      "(2, 10, 1) [ 2 11  1] [1, 0]\n",
      "(2, 11, 1) [ 2 12  1] [1, 0]\n",
      "(2, 12, 1) [ 2 13  1] [1, 0]\n",
      "(2, 13, 1) [ 2 13  0] [0, -1]\n",
      "(2, 13, 0) [ 3 13  0] [1, 0]\n",
      "(3, 13, 0) [ 4 13  0] [1, 0]\n",
      "(4, 13, 0) [ 5 13  0] [1, 0]\n",
      "(5, 13, 0) [ 6 13  0] [1, 0]\n",
      "(6, 13, 0) [ 7 13  0] [1, 0]\n",
      "(7, 13, 0) [ 8 13  0] [1, 0]\n",
      "(8, 13, 0) [ 9 13  0] [1, 0]\n",
      "(9, 13, 0) [10 13  0] [1, 0]\n",
      "(10, 13, 0) [11 13  0] [1, 0]\n",
      "(11, 13, 0) [12 13  0] [1, 0]\n",
      "(12, 13, 0) [12 13  1] [0, 1]\n",
      "(12, 13, 1) [12 14  1] [1, 0]\n",
      "(12, 14, 1) [12 15  1] [1, 0]\n",
      "(12, 15, 1) [12 15  0] [0, -1]\n",
      "(12, 15, 0) [13 15  0] [1, 0]\n",
      "(13, 15, 0) [14 15  0] [1, 0]\n",
      "(14, 15, 0) [15 15  0] [1, 0]\n",
      "(15, 15, 0) [16 15  0] [1, 0]\n",
      "(16, 15, 0) [17 15  0] [1, 0]\n",
      "(17, 15, 0) [18 15  0] [1, 0]\n",
      "(18, 15, 0) [19 15  0] [1, 0]\n",
      "(19, 15, 0) [20 15  0] [1, 0]\n",
      "(20, 15, 0) [21 15  0] [1, 0]\n",
      "(21, 15, 0) [22 15  0] [1, 0]\n",
      "(22, 15, 0) [23 15  0] [1, 0]\n",
      "(23, 15, 0) [24 15  0] [1, 0]\n",
      "(24, 15, 0) [25 15  0] [1, 0]\n",
      "(25, 15, 0) [26 15  0] [1, 0]\n",
      "(26, 15, 0) [27 15  0] [1, 0]\n",
      "(27, 15, 0) [28 15  0] [1, 0]\n",
      "(28, 15, 0) [29 15  0] [1, 0]\n",
      "(29, 15, 0) [30 15  0] [1, 0]\n",
      "(30, 15, 0) [31 15  0] [1, 0]\n",
      "(31, 15, 0) [32 15  0] [1, 0]\n",
      "(32, 15, 0) [33 15  0] [1, 0]\n",
      "(33, 15, 0) [34 15  0] [1, 0]\n",
      "(34, 15, 0) [35 15  0] [1, 0]\n",
      "(35, 15, 0) [36 15  0] [1, 0]\n",
      "(36, 15, 0) [37 15  0] [1, 0]\n",
      "(37, 15, 0) [38 15  0] [1, 0]\n",
      "(38, 15, 0) [39 15  0] [1, 0]\n",
      "(39, 15, 0) [40 15  0] [1, 0]\n",
      "(40, 15, 0) [41 15  0] [1, 0]\n",
      "(41, 15, 0) [42 15  0] [1, 0]\n",
      "(42, 15, 0) [43 15  0] [1, 0]\n",
      "(43, 15, 0) [44 15  0] [1, 0]\n",
      "(44, 15, 0) [45 15  0] [1, 0]\n",
      "(45, 15, 0) [46 15  0] [1, 0]\n",
      "(46, 15, 0) [47 15  0] [1, 0]\n",
      "(47, 15, 0) [48 15  0] [1, 0]\n",
      "(48, 15, 0) [48 15  1] [0, 1]\n",
      "(48, 15, 1) [48 16  1] [1, 0]\n",
      "(48, 16, 1) [48 17  1] [1, 0]\n",
      "(48, 17, 1) [48 18  1] [1, 0]\n",
      "(48, 18, 1) [48 18  1] [0, 0]\n"
     ]
    },
    {
     "data": {
      "text/plain": [
       "[<matplotlib.lines.Line2D at 0x1fde9ac9b20>]"
      ]
     },
     "execution_count": 68,
     "metadata": {},
     "output_type": "execute_result"
    },
    {
     "data": {
      "image/png": "[encoded data removed]",
      "text/plain": [
       "<Figure size 1440x1440 with 2 Axes>"
      ]
     },
     "metadata": {
      "needs_background": "light"
     },
     "output_type": "display_data"
    }
   ],
   "source": [
    "ROBOT_SIZE = 0.2552\n",
    "map_name = \"com1building\"\n",
    "goal = 5\n",
    "\n",
    "goals = {\n",
    "    \"map1\" : [[3, 5], [8, 8], [7, 6]],\n",
    "    \"map2\" : [[5, 5], [9, 8], [3, 3]],\n",
    "    \"map3\" : [[9, 7], [4, 5], [5, 7]],\n",
    "    \"map4\" : [[5, 4], [9, 9], [8, 3]],\n",
    "    \"com1building\" : [[4, 8], [31, 4], [49, 3], [30, 16], [20, 1], [48, 18]]\n",
    "}\n",
    "\n",
    "goal = goals[map_name][goal]\n",
    "resolution, world_width, world_height, map = pickle.load(open(\"./org_map/%s.pkl\" % (map_name), \"rb\")) \n",
    "multiplier = int(1/resolution)\n",
    "map_base = np.array(map).reshape(world_height, world_width)\n",
    "\n",
    "action_table = json.load(open(\"./Controls/DSPA_%s_%s_%s.json\" % (map_name, *goal), \"rb\"))\n",
    "action_table = {eval(k): v for k,v in action_table.items()}\n",
    "\n",
    "##################################################\n",
    "cur_pose = (1,1,0) #init_pose\n",
    "path = [cur_pose]\n",
    "for _ in range(100):\n",
    "    c = action_table[cur_pose]\n",
    "    next_s = next_state(cur_pose, c)\n",
    "    print(cur_pose, next_s, c)\n",
    "    if cur_pose == tuple(e for e in next_s):\n",
    "        break\n",
    "    cur_pose = tuple(e for e in next_s)\n",
    "    path.append(cur_pose)\n",
    "\n",
    "##################################################\n",
    "map_a = np.array(map).reshape(world_height, world_width)\n",
    "map_a[0, :] = 100\n",
    "map_a[-1, :] = 100\n",
    "map_a[:, 0] = 100\n",
    "map_a[:, -1] = 100\n",
    "\n",
    "# inflation_ratio = int(np.ceil(ROBOT_SIZE * 1/resolution)//2)+1\n",
    "robot_diag = (2* (ROBOT_SIZE**2))**0.5\n",
    "inflation_ratio =  int(np.ceil(robot_diag/resolution/2))\n",
    "    \n",
    "mv = [0, 1, 2]\n",
    "for k in range(inflation_ratio):\n",
    "    map_a = np.pad(map_a, 1)\n",
    "    maps = [map_a[i:world_height+i, j:world_width+j] for i in mv for j in mv]\n",
    "    maps_padded = np.stack(maps).sum(axis=0)\n",
    "    map_a = (maps_padded > 0) * 100\n",
    "\n",
    "aug_map = map_a\n",
    "\n",
    "fig, ax = plt.subplots(figsize=(20, 20))\n",
    "im = ax.imshow(aug_map, origin='lower')\n",
    "divider = make_axes_locatable(ax)\n",
    "cax = divider.append_axes('right', size='5%', pad=0.05)\n",
    "fig.colorbar(im, cax=cax, orientation='vertical')\n",
    "\n",
    "for x, y, _ in path:\n",
    "    ax.plot(x*multiplier, y*multiplier, \"ro\")\n",
    "x, y = goal[:2]\n",
    "ax.plot(x*multiplier, y*multiplier, \"bo\")\n",
    "x, y = 22, 15\n",
    "ax.plot(x*multiplier, y*multiplier, \"ko\")\n",
    "x, y = 22, 14\n",
    "ax.plot(x*multiplier, y*multiplier, \"kx\")"
   ]
  },
  {
   "cell_type": "code",
   "execution_count": 62,
   "metadata": {},
   "outputs": [
    {
     "data": {
      "text/plain": [
       "0"
      ]
     },
     "execution_count": 62,
     "metadata": {},
     "output_type": "execute_result"
    }
   ],
   "source": [
    "x, y = 22, 14\n",
    "aug_map[y*multiplier, x*multiplier]"
   ]
  },
  {
   "cell_type": "code",
   "execution_count": 66,
   "metadata": {},
   "outputs": [
    {
     "data": {
      "text/plain": [
       "[<matplotlib.lines.Line2D at 0x1fde8af5d60>]"
      ]
     },
     "execution_count": 66,
     "metadata": {},
     "output_type": "execute_result"
    },
    {
     "data": {
      "image/png": "[encoded data removed]",
      "text/plain": [
       "<Figure size 720x720 with 2 Axes>"
      ]
     },
     "metadata": {
      "needs_background": "light"
     },
     "output_type": "display_data"
    }
   ],
   "source": [
    "x, y = 22, 14\n",
    "fig, ax = plt.subplots(figsize=(10, 10))\n",
    "im = ax.imshow(aug_map[y*multiplier-10:y*multiplier+10, x*multiplier-10:x*multiplier+10], origin='lower')\n",
    "divider = make_axes_locatable(ax)\n",
    "cax = divider.append_axes('right', size='5%', pad=0.05)\n",
    "fig.colorbar(im, cax=cax, orientation='vertical')\n",
    "ax.plot(10, 10, \"kx\")"
   ]
  },
  {
   "cell_type": "code",
   "execution_count": 465,
   "metadata": {},
   "outputs": [
    {
     "data": {
      "text/plain": [
       "<matplotlib.colorbar.Colorbar at 0x1c0a4a3ab50>"
      ]
     },
     "execution_count": 465,
     "metadata": {},
     "output_type": "execute_result"
    },
    {
     "data": {
      "image/png": "[encoded data removed]",
      "text/plain": [
       "<Figure size 720x720 with 2 Axes>"
      ]
     },
     "metadata": {
      "needs_background": "light"
     },
     "output_type": "display_data"
    }
   ],
   "source": [
    "v_cur = pickle.load(open(\"./state.pkl\", \"rb\"), encoding='latin1') \n",
    "fig, ax = plt.subplots(figsize=(10, 10))\n",
    "im = ax.imshow(v_cur.max(-1), origin='lower')\n",
    "divider = make_axes_locatable(ax)\n",
    "cax = divider.append_axes('right', size='5%', pad=0.05)\n",
    "fig.colorbar(im, cax=cax, orientation='vertical')"
   ]
  },
  {
   "cell_type": "code",
   "execution_count": 397,
   "metadata": {},
   "outputs": [
    {
     "data": {
      "text/plain": [
       "<matplotlib.colorbar.Colorbar at 0x1c09f0f4ca0>"
      ]
     },
     "execution_count": 397,
     "metadata": {},
     "output_type": "execute_result"
    },
    {
     "data": {
      "image/png": "[encoded data removed]",
      "text/plain": [
       "<Figure size 720x720 with 2 Axes>"
      ]
     },
     "metadata": {
      "needs_background": "light"
     },
     "output_type": "display_data"
    }
   ],
   "source": [
    "fig, ax = plt.subplots(figsize=(10, 10))\n",
    "im = ax.imshow(invalid_nodes, origin='lower')\n",
    "divider = make_axes_locatable(ax)\n",
    "cax = divider.append_axes('right', size='5%', pad=0.05)\n",
    "fig.colorbar(im, cax=cax, orientation='vertical') "
   ]
  },
  {
   "cell_type": "code",
   "execution_count": 1196,
   "metadata": {},
   "outputs": [
    {
     "data": {
      "text/plain": [
       "<matplotlib.colorbar.Colorbar at 0x20161c28d00>"
      ]
     },
     "execution_count": 1196,
     "metadata": {},
     "output_type": "execute_result"
    },
    {
     "data": {
      "image/png": "[encoded data removed]",
      "text/plain": [
       "<Figure size 720x720 with 2 Axes>"
      ]
     },
     "metadata": {
      "needs_background": "light"
     },
     "output_type": "display_data"
    }
   ],
   "source": [
    "fig, ax = plt.subplots(figsize=(10, 10))\n",
    "im = ax.imshow(invalid_actions[:,:,3], origin='lower')\n",
    "divider = make_axes_locatable(ax)\n",
    "cax = divider.append_axes('right', size='5%', pad=0.05)\n",
    "fig.colorbar(im, cax=cax, orientation='vertical')"
   ]
  },
  {
   "cell_type": "code",
   "execution_count": 1029,
   "metadata": {},
   "outputs": [
    {
     "data": {
      "text/plain": [
       "<matplotlib.colorbar.Colorbar at 0x2015de6c040>"
      ]
     },
     "execution_count": 1029,
     "metadata": {},
     "output_type": "execute_result"
    },
    {
     "data": {
      "image/png": "[encoded data removed]",
      "text/plain": [
       "<Figure size 720x720 with 2 Axes>"
      ]
     },
     "metadata": {
      "needs_background": "light"
     },
     "output_type": "display_data"
    }
   ],
   "source": [
    "fig, ax = plt.subplots(figsize=(10, 10))\n",
    "im = ax.imshow(rewards[:, :, 0, 3], origin='lower')\n",
    "divider = make_axes_locatable(ax)\n",
    "cax = divider.append_axes('right', size='5%', pad=0.05)\n",
    "fig.colorbar(im, cax=cax, orientation='vertical')"
   ]
  },
  {
   "attachments": {},
   "cell_type": "markdown",
   "metadata": {},
   "source": [
    "# Compare"
   ]
  },
  {
   "cell_type": "code",
   "execution_count": 78,
   "metadata": {},
   "outputs": [],
   "source": [
    "import json\n",
    "PATH=\"../../../files\"\n",
    "with open(f\"{PATH}/task_3.json\", \"r\") as fin:\n",
    "    policy = json.load(fin)\n",
    "with open(f\"./Controls/DSPA_map3_4_5.json\", \"r\") as fin:\n",
    "    policy2 = json.load(fin)"
   ]
  }
 ],
 "metadata": {
  "kernelspec": {
   "display_name": "ogb",
   "language": "python",
   "name": "python3"
  },
  "language_info": {
   "codemirror_mode": {
    "name": "ipython",
    "version": 3
   },
   "file_extension": ".py",
   "mimetype": "text/x-python",
   "name": "python",
   "nbconvert_exporter": "python",
   "pygments_lexer": "ipython3",
   "version": "3.8.5"
  },
  "orig_nbformat": 4,
  "vscode": {
   "interpreter": {
    "hash": "626a62696cfe751c2454dc67cbde02dbd11ce128fce2452645cc77118e71fe35"
   }
  }
 },
 "nbformat": 4,
 "nbformat_minor": 2
}
